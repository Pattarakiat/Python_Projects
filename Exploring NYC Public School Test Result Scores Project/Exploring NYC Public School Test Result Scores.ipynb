{
 "cells": [
  {
   "cell_type": "markdown",
   "metadata": {},
   "source": [
    "<div style=\"color:white;\n",
    "            display:fill;\n",
    "            border-radius:15px;\n",
    "            background-color:crimson;\n",
    "            font-size:100%;\n",
    "            font-family:Verdana;\n",
    "            letter-spacing:1px\">\n",
    "    <h3 style='padding: 20px;\n",
    "              color:white;\n",
    "              text-align:center;'>\n",
    "        NYC Public School Test Result Scores\n",
    "    </h3>\n",
    "    </div>"
   ]
  },
  {
   "cell_type": "markdown",
   "metadata": {},
   "source": [
    "![New York City schoolbus](schoolbus.jpg)\n",
    "\n",
    "Photo by [Austin Pacheco](https://unsplash.com/@austin_pacheco) on [Unsplash](https://unsplash.com).\n",
    "<br>\n",
    "\n",
    "\n",
    "Every year, American high school students take SATs, which are standardized tests intended to measure literacy, numeracy, and writing skills. There are three sections - reading, math, and writing, each with a maximum score of 800 points. These tests are extremely important for students and colleges, as they play a pivotal role in the admissions process.\n",
    "\n",
    "Analyzing the performance of schools is important for a variety of stakeholders, including policy and education professionals, researchers, government, and even parents considering which school their children should attend. \n",
    "\n",
    "You have been provided with a dataset called `schools.csv`, which is previewed below.\n",
    "\n",
    "About Dataset  \n",
    "**school_name**: The list of high schools within the state of New York City\n",
    "**borough**: The town or district is in New York City\n",
    "**building_code**: One of the NYC code that set minimum requirements for how to construce the building\n",
    "**average_math**: The average math score of each schools\n",
    "**average_reading**: The average reading score of each schools\n",
    "**average_writing**: The average writing score of each schools\n",
    "**percent_tested** The percentage of student who participated the SATS\n",
    "\n",
    "You have been tasked with answering three key questions about New York City (NYC) public school SAT performance.\n",
    "\n",
    "\n",
    "**Which schools produce the highest math scores?**\n",
    "- Specifically, which schools have an average math SAT score of at least 80%?  \n",
    "- Save the results as a pandas DataFrame called best_math_schools.\n",
    "\n",
    "**Who are the top 10 schools based on average results across reading, math, and writing?**\n",
    "- Save the results as a pandas DataFrame called top_10_schools.  \n",
    "\n",
    "**Which NYC borough has the largest standard deviation for SAT results?**\n",
    "- Save the results as a pandas DataFrame called largest_std_dev.  "
   ]
  },
  {
   "cell_type": "code",
   "execution_count": 8,
   "metadata": {},
   "outputs": [
    {
     "data": {
      "text/plain": [
       "array(['M022', 'M445', 'M056', 'M097', 'M025', 'M446', 'M131', 'M475',\n",
       "       'M460', 'M877', 'M282', 'M824', 'M833', 'M894', 'M060', 'M874',\n",
       "       'M660', 'M873', 'M070', 'M440', 'M600', 'M615', 'M620', 'M625',\n",
       "       'M535', 'M834', 'M488', 'M855', 'M490', 'M837', 'M485', 'M470',\n",
       "       'M088', 'M125', 'M043', 'M107', 'M013', 'M495', 'M895', 'M435',\n",
       "       'M136', 'M970', 'M812', 'M540', 'M876', 'M814', 'M143', 'M045',\n",
       "       'M896', 'M017', 'M486', 'M520', 'M010', 'M465', 'M218', 'M480',\n",
       "       'M645', 'M477', 'R600', 'R880', 'R450', 'R445', 'R440', 'R435',\n",
       "       'R455', 'R460', 'R043', 'X790', 'X460', 'X183', 'X884', 'X600',\n",
       "       'X082', 'X149', 'X139', 'X162', 'X470', 'X400', 'X158', 'X002',\n",
       "       'X166', 'X148', 'X970', 'X410', 'X876', 'X465', 'X137', 'X435',\n",
       "       'X099', 'X039', 'X392', 'X973', 'X098', 'X878', 'X067', 'X879',\n",
       "       'X405', 'X839', 'X368', 'X475', 'X143', 'X141', 'X362', 'X425',\n",
       "       'X430', 'X445', 'X905', 'X440', 'X415', 'X420', 'X423', 'X450',\n",
       "       'X174', 'X972', 'X455', 'Q600', 'Q735', 'Q520', 'Q404', 'Q610',\n",
       "       'Q451', 'Q450', 'Q725', 'Q891', 'Q739', 'Q445', 'Q452', 'Q570',\n",
       "       'Q798', 'K805', 'K293', 'K580', 'K313', 'K804', 'K415', 'K470',\n",
       "       'K232', 'K223', 'K505', 'K117', 'K265', 'K914', 'K071', 'K049',\n",
       "       'K435', 'K660', 'K819', 'K420', 'K218', 'K615', 'K422', 'K490',\n",
       "       'K405', 'K450', 'K650', 'K778', 'K175', 'K625', 'K455', 'K400',\n",
       "       'K721', 'K445', 'K460', 'K994', 'K655', 'K430', 'K917', 'K485',\n",
       "       'K913', 'K987', 'K057', 'K865', 'K610', 'K540', 'K303', 'K440',\n",
       "       'K590', 'K600', 'K465', 'K425', 'K525', 'K142', 'K564', 'K055',\n",
       "       'K040', 'K535', 'K410', 'K620', 'K500', 'K515', 'K554', 'K480',\n",
       "       'K909', 'Q460', 'Q237', 'Q189', 'Q025', 'Q405', 'Q415', 'Q430',\n",
       "       'Q168', 'Q707', 'Q425', 'Q515', 'Q456', 'Q744', 'Q585', 'Q455',\n",
       "       'Q440', 'Q686', 'Q485', 'Q490', 'Q192', 'Q420', 'Q650', 'Q480',\n",
       "       'Q202', 'Q475', 'Q799', 'Q566', 'Q435', 'Q695', 'Q470', 'Q680',\n",
       "       'Q505', 'Q620', 'Q008', 'Q774', 'Q690', 'Q400', 'Q465', 'Q410',\n",
       "       'Q180'], dtype=object)"
      ]
     },
     "execution_count": 8,
     "metadata": {},
     "output_type": "execute_result"
    }
   ],
   "source": [
    "schools['building_code'].unique()"
   ]
  },
  {
   "cell_type": "markdown",
   "metadata": {},
   "source": [
    "<div style=\"color:white;\n",
    "            display:fill;\n",
    "            border-radius:15px;\n",
    "            background-color:crimson;\n",
    "            font-size:100%;\n",
    "            font-family:Verdana;\n",
    "            letter-spacing:1px\">\n",
    "    <h3 style='padding: 20px;\n",
    "              color:white;\n",
    "              text-align:center;'>\n",
    "        EXPLORATORY DATA ANALYSIS\n",
    "    </h3>\n",
    "    </div> "
   ]
  },
  {
   "cell_type": "code",
   "execution_count": 5,
   "metadata": {},
   "outputs": [
    {
     "data": {
      "text/html": [
       "<div>\n",
       "<style scoped>\n",
       "    .dataframe tbody tr th:only-of-type {\n",
       "        vertical-align: middle;\n",
       "    }\n",
       "\n",
       "    .dataframe tbody tr th {\n",
       "        vertical-align: top;\n",
       "    }\n",
       "\n",
       "    .dataframe thead th {\n",
       "        text-align: right;\n",
       "    }\n",
       "</style>\n",
       "<table border=\"1\" class=\"dataframe\">\n",
       "  <thead>\n",
       "    <tr style=\"text-align: right;\">\n",
       "      <th></th>\n",
       "      <th>school_name</th>\n",
       "      <th>borough</th>\n",
       "      <th>building_code</th>\n",
       "      <th>average_math</th>\n",
       "      <th>average_reading</th>\n",
       "      <th>average_writing</th>\n",
       "      <th>percent_tested</th>\n",
       "    </tr>\n",
       "  </thead>\n",
       "  <tbody>\n",
       "    <tr>\n",
       "      <th>0</th>\n",
       "      <td>New Explorations into Science, Technology and ...</td>\n",
       "      <td>Manhattan</td>\n",
       "      <td>M022</td>\n",
       "      <td>657</td>\n",
       "      <td>601</td>\n",
       "      <td>601</td>\n",
       "      <td>NaN</td>\n",
       "    </tr>\n",
       "    <tr>\n",
       "      <th>1</th>\n",
       "      <td>Essex Street Academy</td>\n",
       "      <td>Manhattan</td>\n",
       "      <td>M445</td>\n",
       "      <td>395</td>\n",
       "      <td>411</td>\n",
       "      <td>387</td>\n",
       "      <td>78.9</td>\n",
       "    </tr>\n",
       "    <tr>\n",
       "      <th>2</th>\n",
       "      <td>Lower Manhattan Arts Academy</td>\n",
       "      <td>Manhattan</td>\n",
       "      <td>M445</td>\n",
       "      <td>418</td>\n",
       "      <td>428</td>\n",
       "      <td>415</td>\n",
       "      <td>65.1</td>\n",
       "    </tr>\n",
       "    <tr>\n",
       "      <th>3</th>\n",
       "      <td>High School for Dual Language and Asian Studies</td>\n",
       "      <td>Manhattan</td>\n",
       "      <td>M445</td>\n",
       "      <td>613</td>\n",
       "      <td>453</td>\n",
       "      <td>463</td>\n",
       "      <td>95.9</td>\n",
       "    </tr>\n",
       "    <tr>\n",
       "      <th>4</th>\n",
       "      <td>Henry Street School for International Studies</td>\n",
       "      <td>Manhattan</td>\n",
       "      <td>M056</td>\n",
       "      <td>410</td>\n",
       "      <td>406</td>\n",
       "      <td>381</td>\n",
       "      <td>59.7</td>\n",
       "    </tr>\n",
       "  </tbody>\n",
       "</table>\n",
       "</div>"
      ],
      "text/plain": [
       "                                         school_name    borough building_code  \\\n",
       "0  New Explorations into Science, Technology and ...  Manhattan          M022   \n",
       "1                               Essex Street Academy  Manhattan          M445   \n",
       "2                       Lower Manhattan Arts Academy  Manhattan          M445   \n",
       "3    High School for Dual Language and Asian Studies  Manhattan          M445   \n",
       "4      Henry Street School for International Studies  Manhattan          M056   \n",
       "\n",
       "   average_math  average_reading  average_writing  percent_tested  \n",
       "0           657              601              601             NaN  \n",
       "1           395              411              387            78.9  \n",
       "2           418              428              415            65.1  \n",
       "3           613              453              463            95.9  \n",
       "4           410              406              381            59.7  "
      ]
     },
     "execution_count": 5,
     "metadata": {},
     "output_type": "execute_result"
    }
   ],
   "source": [
    "# Re-run this cell \n",
    "import pandas as pd\n",
    "import numpy as np\n",
    "\n",
    "# Read in the data\n",
    "schools = pd.read_csv(\"schools.csv\")\n",
    "\n",
    "# Preview the data\n",
    "schools.head()\n",
    "\n",
    "# Start coding here...\n",
    "# Add as many cells as you like..."
   ]
  },
  {
   "cell_type": "code",
   "execution_count": 2,
   "metadata": {},
   "outputs": [
    {
     "name": "stdout",
     "output_type": "stream",
     "text": [
      "                                           school_name  average_math\n",
      "88                              Stuyvesant High School           754\n",
      "170                       Bronx High School of Science           714\n",
      "93                 Staten Island Technical High School           711\n",
      "365  Queens High School for the Sciences at York Co...           701\n",
      "68   High School for Mathematics, Science, and Engi...           683\n",
      "280                     Brooklyn Technical High School           682\n",
      "333                        Townsend Harris High School           680\n",
      "174  High School of American Studies at Lehman College           669\n",
      "0    New Explorations into Science, Technology and ...           657\n",
      "45                       Eleanor Roosevelt High School           641\n"
     ]
    }
   ],
   "source": [
    "# Find the schools where average math score at least 80%\n",
    "best_math_schools = schools.loc[schools['average_math'] >= 640,['school_name', 'average_math']].sort_values('average_math', ascending=False)\n",
    "print(best_math_schools)"
   ]
  },
  {
   "cell_type": "code",
   "execution_count": 3,
   "metadata": {},
   "outputs": [
    {
     "name": "stdout",
     "output_type": "stream",
     "text": [
      "                                           school_name  total_SAT\n",
      "88                              Stuyvesant High School       2144\n",
      "170                       Bronx High School of Science       2041\n",
      "93                 Staten Island Technical High School       2041\n",
      "174  High School of American Studies at Lehman College       2013\n",
      "333                        Townsend Harris High School       1981\n",
      "365  Queens High School for the Sciences at York Co...       1947\n",
      "5                       Bard High School Early College       1914\n",
      "280                     Brooklyn Technical High School       1896\n",
      "45                       Eleanor Roosevelt High School       1889\n",
      "68   High School for Mathematics, Science, and Engi...       1889\n"
     ]
    }
   ],
   "source": [
    "# Find top 10 schools\n",
    "\n",
    "# sum total SAT score\n",
    "schools['total_SAT'] = schools['average_math']+schools['average_writing']+schools['average_reading']\n",
    "top_10_schools = schools[:][['school_name','total_SAT']].sort_values(['total_SAT','school_name'], ascending=[False,True]).head(10)\n",
    "print(top_10_schools)"
   ]
  },
  {
   "cell_type": "code",
   "execution_count": 4,
   "metadata": {},
   "outputs": [
    {
     "name": "stdout",
     "output_type": "stream",
     "text": [
      "           num_schools  average_SAT  std_SAT\n",
      "borough                                     \n",
      "Manhattan           89      1340.13   230.29\n"
     ]
    }
   ],
   "source": [
    "# Find the largest std of borough\n",
    "\n",
    "boroughs = schools.groupby('borough')['total_SAT'].agg(['count', 'mean', 'std']).round(2)\n",
    "largest_std_dev = boroughs[boroughs['std'] == boroughs['std'].max()]\n",
    "largest_std_dev = largest_std_dev.rename(columns={'count':'num_schools', 'mean':'average_SAT', 'std':'std_SAT'})\n",
    "print(largest_std_dev)"
   ]
  }
 ],
 "metadata": {
  "kernelspec": {
   "display_name": "Python 3",
   "language": "python",
   "name": "python3"
  },
  "language_info": {
   "codemirror_mode": {
    "name": "ipython",
    "version": 3
   },
   "file_extension": ".py",
   "mimetype": "text/x-python",
   "name": "python",
   "nbconvert_exporter": "python",
   "pygments_lexer": "ipython3",
   "version": "3.11.5"
  }
 },
 "nbformat": 4,
 "nbformat_minor": 2
}
